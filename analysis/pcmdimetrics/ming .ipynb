{
 "cells": [
  {
   "cell_type": "code",
   "execution_count": 18,
   "metadata": {
    "collapsed": false
   },
   "outputs": [
    {
     "name": "stdout",
     "output_type": "stream",
     "text": [
      "convert /home/a1r/ming/AM4_edited.png /home/a1r/ming//AM4_edited.png.pdf\n"
     ]
    }
   ],
   "source": [
    "# convert png to PDF \n",
    "\n",
    "import os, re, sys \n",
    " \n",
    "f = '/home/a1r/ming/AM4_edited.png'\n",
    " \n",
    "cmd = 'convert %s %s/%s.pdf'%(f,'/home/a1r/ming/', 'AM4_edited.png')\n",
    "os.system( cmd )\n",
    "print(cmd)"
   ]
  },
  {
   "cell_type": "code",
   "execution_count": 19,
   "metadata": {
    "collapsed": false
   },
   "outputs": [
    {
     "name": "stdout",
     "output_type": "stream",
     "text": [
      "convert /home/a1r/ming/AM4_edited.png /home/a1r/ming//AM4_edited.png.eps\n"
     ]
    }
   ],
   "source": [
    "# convert png to eps \n",
    "\n",
    "import os, re, sys \n",
    " \n",
    "f = '/home/a1r/ming/AM4_edited.png'\n",
    " \n",
    "cmd = 'convert %s %s/%s.eps'%(f,'/home/a1r/ming/', 'AM4_edited.png')\n",
    "os.system( cmd )\n",
    "print(cmd)"
   ]
  },
  {
   "cell_type": "code",
   "execution_count": null,
   "metadata": {
    "collapsed": true
   },
   "outputs": [],
   "source": []
  }
 ],
 "metadata": {
  "kernelspec": {
   "display_name": "Python [pcmdimetrics]",
   "language": "python",
   "name": "Python [pcmdimetrics]"
  },
  "language_info": {
   "codemirror_mode": {
    "name": "ipython",
    "version": 2
   },
   "file_extension": ".py",
   "mimetype": "text/x-python",
   "name": "python",
   "nbconvert_exporter": "python",
   "pygments_lexer": "ipython2",
   "version": "2.7.13"
  }
 },
 "nbformat": 4,
 "nbformat_minor": 0
}
